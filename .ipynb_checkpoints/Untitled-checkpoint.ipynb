{
 "cells": [
  {
   "cell_type": "code",
   "execution_count": 1,
   "id": "e46f6c33",
   "metadata": {},
   "outputs": [],
   "source": [
    "#impoting python libraries\n",
    "import tensorflow as tf\n",
    "from tensorflow import keras\n",
    "import numpy as np\n",
    "import matplotlib.pyplot as plt\n"
   ]
  },
  {
   "cell_type": "markdown",
   "id": "4c7c156d",
   "metadata": {},
   "source": [
    "# Downloading Dataset"
   ]
  },
  {
   "cell_type": "code",
   "execution_count": 3,
   "id": "564316d9",
   "metadata": {},
   "outputs": [
    {
     "name": "stdout",
     "output_type": "stream",
     "text": [
      "<class 'numpy.ndarray'>\n"
     ]
    }
   ],
   "source": [
    "(X_train, y_train), (X_test,y_test) = tf.keras.datasets.cifar10.load_data()\n",
    "print(type(X_train))"
   ]
  },
  {
   "cell_type": "code",
   "execution_count": 4,
   "id": "308cd997",
   "metadata": {},
   "outputs": [
    {
     "data": {
      "text/plain": [
       "(50000, 32, 32, 3)"
      ]
     },
     "execution_count": 4,
     "metadata": {},
     "output_type": "execute_result"
    }
   ],
   "source": [
    "X_train.shape"
   ]
  },
  {
   "cell_type": "code",
   "execution_count": 5,
   "id": "4de3d42d",
   "metadata": {},
   "outputs": [
    {
     "data": {
      "text/plain": [
       "(50000, 1)"
      ]
     },
     "execution_count": 5,
     "metadata": {},
     "output_type": "execute_result"
    }
   ],
   "source": [
    "y_train.shape"
   ]
  },
  {
   "cell_type": "code",
   "execution_count": 6,
   "id": "05583b79",
   "metadata": {},
   "outputs": [],
   "source": [
    "classes = [\"airplane\",\"automobile\",\"bird\",\"cat\",\"deer\",\"dog\",\"frog\",\"horse\",\"ship\",\"truck\"]"
   ]
  },
  {
   "cell_type": "code",
   "execution_count": 7,
   "id": "0eee53bd",
   "metadata": {},
   "outputs": [
    {
     "data": {
      "text/plain": [
       "<matplotlib.image.AxesImage at 0x2ba0f866430>"
      ]
     },
     "execution_count": 7,
     "metadata": {},
     "output_type": "execute_result"
    },
    {
     "data": {
      "image/png": "[encoded data removed]",
      "text/plain": [
       "<Figure size 640x480 with 1 Axes>"
      ]
     },
     "metadata": {},
     "output_type": "display_data"
    }
   ],
   "source": [
    "plt.imshow(X_test[13])"
   ]
  },
  {
   "cell_type": "markdown",
   "id": "42707bee",
   "metadata": {},
   "source": [
    "# Scaling Images"
   ]
  },
  {
   "cell_type": "code",
   "execution_count": 10,
   "id": "b35d8aa6",
   "metadata": {},
   "outputs": [],
   "source": [
    "X_train=X_train/255\n",
    "X_test=X_test/255"
   ]
  },
  {
   "cell_type": "code",
   "execution_count": 11,
   "id": "0fa3c6d9",
   "metadata": {},
   "outputs": [
    {
     "data": {
      "text/plain": [
       "array([6, 9, 9, 4, 1], dtype=uint8)"
      ]
     },
     "execution_count": 11,
     "metadata": {},
     "output_type": "execute_result"
    }
   ],
   "source": [
    "y_test = y_test.reshape(-1,)\n",
    "y_train = y_train.reshape(-1,)\n",
    "y_train[:5]"
   ]
  },
  {
   "cell_type": "markdown",
   "id": "6446d738",
   "metadata": {},
   "source": [
    "# CONV MODEL"
   ]
  },
  {
   "cell_type": "code",
   "execution_count": 17,
   "id": "f93d8099",
   "metadata": {},
   "outputs": [
    {
     "name": "stdout",
     "output_type": "stream",
     "text": [
      "Epoch 1/15\n",
      "1563/1563 [==============================] - 121s 77ms/step - loss: 1.4934 - accuracy: 0.4621\n",
      "Epoch 2/15\n",
      "1563/1563 [==============================] - 96s 61ms/step - loss: 1.1403 - accuracy: 0.6010\n",
      "Epoch 3/15\n",
      "1563/1563 [==============================] - 96s 61ms/step - loss: 1.0065 - accuracy: 0.6478\n",
      "Epoch 4/15\n",
      "1563/1563 [==============================] - 78s 50ms/step - loss: 0.9291 - accuracy: 0.6784\n",
      "Epoch 5/15\n",
      "1563/1563 [==============================] - 88s 56ms/step - loss: 0.8653 - accuracy: 0.6981\n",
      "Epoch 6/15\n",
      "1563/1563 [==============================] - 74s 47ms/step - loss: 0.8109 - accuracy: 0.7182\n",
      "Epoch 7/15\n",
      "1563/1563 [==============================] - 74s 47ms/step - loss: 0.7719 - accuracy: 0.7311\n",
      "Epoch 8/15\n",
      "1563/1563 [==============================] - 76s 49ms/step - loss: 0.7258 - accuracy: 0.7480\n",
      "Epoch 9/15\n",
      "1563/1563 [==============================] - 72s 46ms/step - loss: 0.6926 - accuracy: 0.7582\n",
      "Epoch 10/15\n",
      "1563/1563 [==============================] - 63s 41ms/step - loss: 0.6595 - accuracy: 0.7714\n",
      "Epoch 11/15\n",
      "1563/1563 [==============================] - 68s 44ms/step - loss: 0.6271 - accuracy: 0.7805\n",
      "Epoch 12/15\n",
      "1563/1563 [==============================] - 61s 39ms/step - loss: 0.5955 - accuracy: 0.7916\n",
      "Epoch 13/15\n",
      "1563/1563 [==============================] - 61s 39ms/step - loss: 0.5694 - accuracy: 0.7992\n",
      "Epoch 14/15\n",
      "1563/1563 [==============================] - 67s 43ms/step - loss: 0.5454 - accuracy: 0.8087\n",
      "Epoch 15/15\n",
      "1563/1563 [==============================] - 71s 46ms/step - loss: 0.5201 - accuracy: 0.8173\n"
     ]
    },
    {
     "data": {
      "text/plain": [
       "<keras.callbacks.History at 0x1eb063be7f0>"
      ]
     },
     "execution_count": 17,
     "metadata": {},
     "output_type": "execute_result"
    }
   ],
   "source": [
    "model = keras.Sequential([\n",
    "    keras.layers.Conv2D(filters=32, kernel_size=(3, 3), activation='relu', input_shape=(32, 32, 3)),\n",
    "    keras.layers.MaxPooling2D((2, 2)),\n",
    "    \n",
    "    keras.layers.Conv2D(filters=64, kernel_size=(3, 3), activation='relu'),\n",
    "    keras.layers.MaxPooling2D((2, 2)),\n",
    "    \n",
    "    keras.layers.Flatten(),\n",
    "    keras.layers.Dense(64, activation='relu'),\n",
    "    keras.layers.Dense(10, activation='softmax')\n",
    "])\n",
    "\n",
    "model.compile(optimizer='adam',\n",
    "              loss='sparse_categorical_crossentropy',\n",
    "              metrics=['accuracy'])\n",
    "\n",
    "model.fit(X_train, y_train, epochs=15)"
   ]
  },
  {
   "cell_type": "code",
   "execution_count": 6,
   "id": "087c0d7a",
   "metadata": {},
   "outputs": [
    {
     "ename": "NameError",
     "evalue": "name 'model' is not defined",
     "output_type": "error",
     "traceback": [
      "\u001b[1;31m---------------------------------------------------------------------------\u001b[0m",
      "\u001b[1;31mNameError\u001b[0m                                 Traceback (most recent call last)",
      "Cell \u001b[1;32mIn [6], line 1\u001b[0m\n\u001b[1;32m----> 1\u001b[0m \u001b[43mmodel\u001b[49m\u001b[38;5;241m.\u001b[39mevaluate(X_test,y_test)\n",
      "\u001b[1;31mNameError\u001b[0m: name 'model' is not defined"
     ]
    }
   ],
   "source": [
    "model.evaluate(X_test,y_test)"
   ]
  },
  {
   "cell_type": "code",
   "execution_count": 19,
   "id": "7f130ad1",
   "metadata": {},
   "outputs": [
    {
     "name": "stdout",
     "output_type": "stream",
     "text": [
      "313/313 [==============================] - 5s 14ms/step\n"
     ]
    },
    {
     "data": {
      "text/plain": [
       "array([[9.6926913e-03, 2.6115536e-08, 1.3479614e-03, 9.5969319e-01,\n",
       "        3.1494941e-03, 2.4720546e-02, 7.0843048e-04, 2.9215148e-06,\n",
       "        6.8448921e-04, 2.2058565e-07],\n",
       "       [6.4510554e-05, 2.4635294e-01, 5.7698861e-07, 1.7738836e-08,\n",
       "        2.1558269e-07, 1.4985304e-09, 1.8764957e-11, 1.9118649e-07,\n",
       "        7.4715471e-01, 6.4267791e-03],\n",
       "       [1.6447010e-02, 2.1332797e-01, 4.5262999e-03, 2.1384917e-03,\n",
       "        1.3773216e-04, 2.9583531e-04, 5.9144216e-04, 5.1063239e-03,\n",
       "        7.3387694e-01, 2.3552006e-02],\n",
       "       [9.5074666e-01, 5.7868795e-03, 3.8222095e-03, 7.7220364e-05,\n",
       "        3.2020340e-05, 9.6347492e-07, 1.8175415e-05, 1.0616950e-06,\n",
       "        3.9505508e-02, 9.2532191e-06],\n",
       "       [1.9784734e-07, 8.9253525e-08, 5.2667577e-03, 1.1768626e-03,\n",
       "        9.5484746e-01, 2.6866712e-04, 3.8439088e-02, 7.5102434e-07,\n",
       "        4.9789762e-08, 5.8630548e-08]], dtype=float32)"
      ]
     },
     "execution_count": 19,
     "metadata": {},
     "output_type": "execute_result"
    }
   ],
   "source": [
    "y_pred=model.predict(X_test)\n",
    "y_pred[:5]"
   ]
  },
  {
   "cell_type": "code",
   "execution_count": 21,
   "id": "8995bf93",
   "metadata": {},
   "outputs": [
    {
     "data": {
      "text/plain": [
       "[3, 8, 8, 0, 4]"
      ]
     },
     "execution_count": 21,
     "metadata": {},
     "output_type": "execute_result"
    }
   ],
   "source": [
    "y_classes=[np.argmax(element) for element in y_pred]\n",
    "y_classes[:5]"
   ]
  },
  {
   "cell_type": "code",
   "execution_count": 29,
   "id": "2922dbb8",
   "metadata": {},
   "outputs": [
    {
     "data": {
      "text/plain": [
       "'horse'"
      ]
     },
     "execution_count": 29,
     "metadata": {},
     "output_type": "execute_result"
    }
   ],
   "source": [
    "classes[y_classes[13]]"
   ]
  },
  {
   "cell_type": "code",
   "execution_count": 40,
   "id": "284e44fd",
   "metadata": {},
   "outputs": [
    {
     "name": "stdout",
     "output_type": "stream",
     "text": [
      "Expected   horse\n",
      "Predicted  horse\n"
     ]
    },
    {
     "data": {
      "text/plain": [
       "Text(0.5, 0, 'horse')"
      ]
     },
     "execution_count": 40,
     "metadata": {},
     "output_type": "execute_result"
    },
    {
     "data": {
      "image/png": "[encoded data removed]",
      "text/plain": [
       "<Figure size 640x480 with 1 Axes>"
      ]
     },
     "metadata": {},
     "output_type": "display_data"
    }
   ],
   "source": [
    "plt.imshow(X_test[13])\n",
    "print(\"Expected  \",classes[y_test[13]])\n",
    "print(\"Predicted \",classes[y_classes[13]])\n",
    "plt.xlabel(classes[y_classes[13]])"
   ]
  },
  {
   "cell_type": "markdown",
   "id": "d6e1f4bc",
   "metadata": {},
   "source": [
    "# Saving the model"
   ]
  },
  {
   "cell_type": "code",
   "execution_count": 41,
   "id": "0f298b73",
   "metadata": {},
   "outputs": [
    {
     "name": "stderr",
     "output_type": "stream",
     "text": [
      "WARNING:absl:Found untraced functions such as _jit_compiled_convolution_op, _jit_compiled_convolution_op while saving (showing 2 of 2). These functions will not be directly callable after loading.\n"
     ]
    },
    {
     "name": "stdout",
     "output_type": "stream",
     "text": [
      "INFO:tensorflow:Assets written to: saved_model/my_model\\assets\n"
     ]
    },
    {
     "name": "stderr",
     "output_type": "stream",
     "text": [
      "INFO:tensorflow:Assets written to: saved_model/my_model\\assets\n"
     ]
    }
   ],
   "source": [
    "!mkdir -p saved_model\n",
    "model.save('saved_model/my_model')"
   ]
  },
  {
   "cell_type": "markdown",
   "id": "206c9626",
   "metadata": {},
   "source": [
    "# Loading Model"
   ]
  },
  {
   "cell_type": "code",
   "execution_count": 4,
   "id": "3d5d2055",
   "metadata": {},
   "outputs": [
    {
     "name": "stdout",
     "output_type": "stream",
     "text": [
      "Model: \"sequential_6\"\n",
      "_________________________________________________________________\n",
      " Layer (type)                Output Shape              Param #   \n",
      "=================================================================\n",
      " conv2d_8 (Conv2D)           (None, 30, 30, 32)        896       \n",
      "                                                                 \n",
      " max_pooling2d_8 (MaxPooling  (None, 15, 15, 32)       0         \n",
      " 2D)                                                             \n",
      "                                                                 \n",
      " conv2d_9 (Conv2D)           (None, 13, 13, 64)        18496     \n",
      "                                                                 \n",
      " max_pooling2d_9 (MaxPooling  (None, 6, 6, 64)         0         \n",
      " 2D)                                                             \n",
      "                                                                 \n",
      " flatten_6 (Flatten)         (None, 2304)              0         \n",
      "                                                                 \n",
      " dense_14 (Dense)            (None, 64)                147520    \n",
      "                                                                 \n",
      " dense_15 (Dense)            (None, 10)                650       \n",
      "                                                                 \n",
      "=================================================================\n",
      "Total params: 167,562\n",
      "Trainable params: 167,562\n",
      "Non-trainable params: 0\n",
      "_________________________________________________________________\n"
     ]
    }
   ],
   "source": [
    "new_model = tf.keras.models.load_model('saved_model/my_model')\n",
    "\n",
    "# Check its architecture\n",
    "new_model.summary()"
   ]
  },
  {
   "cell_type": "code",
   "execution_count": 11,
   "id": "2e56f1b1",
   "metadata": {},
   "outputs": [
    {
     "name": "stdout",
     "output_type": "stream",
     "text": [
      "313/313 [==============================] - 3s 9ms/step - loss: 0.9815 - accuracy: 0.6949\n"
     ]
    },
    {
     "data": {
      "text/plain": [
       "[0.9815292954444885, 0.6948999762535095]"
      ]
     },
     "execution_count": 11,
     "metadata": {},
     "output_type": "execute_result"
    }
   ],
   "source": [
    "new_model.evaluate(X_test,y_test)"
   ]
  },
  {
   "cell_type": "code",
   "execution_count": 12,
   "id": "cda18eff",
   "metadata": {},
   "outputs": [
    {
     "name": "stdout",
     "output_type": "stream",
     "text": [
      "313/313 [==============================] - 2s 7ms/step\n"
     ]
    },
    {
     "data": {
      "text/plain": [
       "array([[9.6926913e-03, 2.6115536e-08, 1.3479614e-03, 9.5969319e-01,\n",
       "        3.1494941e-03, 2.4720546e-02, 7.0843048e-04, 2.9215148e-06,\n",
       "        6.8448921e-04, 2.2058565e-07],\n",
       "       [6.4510554e-05, 2.4635294e-01, 5.7698861e-07, 1.7738836e-08,\n",
       "        2.1558269e-07, 1.4985304e-09, 1.8764957e-11, 1.9118649e-07,\n",
       "        7.4715471e-01, 6.4267791e-03],\n",
       "       [1.6447010e-02, 2.1332797e-01, 4.5262999e-03, 2.1384917e-03,\n",
       "        1.3773216e-04, 2.9583531e-04, 5.9144216e-04, 5.1063239e-03,\n",
       "        7.3387694e-01, 2.3552006e-02],\n",
       "       [9.5074666e-01, 5.7868795e-03, 3.8222095e-03, 7.7220364e-05,\n",
       "        3.2020340e-05, 9.6347492e-07, 1.8175415e-05, 1.0616950e-06,\n",
       "        3.9505508e-02, 9.2532191e-06],\n",
       "       [1.9784734e-07, 8.9253525e-08, 5.2667577e-03, 1.1768626e-03,\n",
       "        9.5484746e-01, 2.6866712e-04, 3.8439088e-02, 7.5102434e-07,\n",
       "        4.9789762e-08, 5.8630548e-08]], dtype=float32)"
      ]
     },
     "execution_count": 12,
     "metadata": {},
     "output_type": "execute_result"
    }
   ],
   "source": [
    "y_pred=new_model.predict(X_test)\n",
    "y_pred[:5]"
   ]
  },
  {
   "cell_type": "code",
   "execution_count": 13,
   "id": "c0fac6c3",
   "metadata": {},
   "outputs": [
    {
     "data": {
      "text/plain": [
       "[3, 8, 8, 0, 4]"
      ]
     },
     "execution_count": 13,
     "metadata": {},
     "output_type": "execute_result"
    }
   ],
   "source": [
    "y_classes=[np.argmax(element) for element in y_pred]\n",
    "y_classes[:5]"
   ]
  },
  {
   "cell_type": "code",
   "execution_count": 14,
   "id": "d00922d1",
   "metadata": {},
   "outputs": [],
   "source": [
    "def output(a):\n",
    "    plt.imshow(X_test[a])\n",
    "    print(\"Expected  \",classes[y_test[a]])\n",
    "    print(\"Predicted \",classes[y_classes[a]])\n",
    "    plt.xlabel(classes[y_classes[a]])\n",
    "    \n"
   ]
  },
  {
   "cell_type": "code",
   "execution_count": 17,
   "id": "e06d6aca",
   "metadata": {},
   "outputs": [
    {
     "name": "stdout",
     "output_type": "stream",
     "text": [
      "Expected   ship\n",
      "Predicted  ship\n"
     ]
    },
    {
     "data": {
      "image/png": "[encoded data removed]",
      "text/plain": [
       "<Figure size 640x480 with 1 Axes>"
      ]
     },
     "metadata": {},
     "output_type": "display_data"
    }
   ],
   "source": [
    "output(1)"
   ]
  },
  {
   "cell_type": "code",
   "execution_count": 18,
   "id": "788d2d37",
   "metadata": {},
   "outputs": [],
   "source": [
    "cm=tf.math.confusion_matrix(labels=y_test,predictions=y_classes)"
   ]
  },
  {
   "cell_type": "code",
   "execution_count": null,
   "id": "3332508e",
   "metadata": {},
   "outputs": [],
   "source": []
  }
 ],
 "metadata": {
  "kernelspec": {
   "display_name": "Python 3 (ipykernel)",
   "language": "python",
   "name": "python3"
  },
  "language_info": {
   "codemirror_mode": {
    "name": "ipython",
    "version": 3
   },
   "file_extension": ".py",
   "mimetype": "text/x-python",
   "name": "python",
   "nbconvert_exporter": "python",
   "pygments_lexer": "ipython3",
   "version": "3.9.13"
  }
 },
 "nbformat": 4,
 "nbformat_minor": 5
}
