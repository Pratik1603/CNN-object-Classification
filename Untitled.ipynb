{
 "cells": [
  {
   "cell_type": "code",
   "execution_count": 2,
   "id": "e46f6c33",
   "metadata": {},
   "outputs": [],
   "source": [
    "#impoting python libraries\n",
    "import tensorflow as tf\n",
    "from tensorflow import keras\n",
    "import numpy as np\n",
    "import matplotlib.pyplot as plt\n",
    "import cv2"
   ]
  },
  {
   "cell_type": "code",
   "execution_count": null,
   "id": "9efdab7c",
   "metadata": {},
   "outputs": [],
   "source": []
  },
  {
   "cell_type": "markdown",
   "id": "4c7c156d",
   "metadata": {},
   "source": [
    "# Downloading Dataset"
   ]
  },
  {
   "cell_type": "code",
   "execution_count": 3,
   "id": "564316d9",
   "metadata": {},
   "outputs": [
    {
     "name": "stdout",
     "output_type": "stream",
     "text": [
      "<class 'numpy.ndarray'>\n"
     ]
    }
   ],
   "source": [
    "(X_train, y_train), (X_test,y_test) = tf.keras.datasets.cifar10.load_data()\n",
    "print(type(X_train))"
   ]
  },
  {
   "cell_type": "code",
   "execution_count": 4,
   "id": "308cd997",
   "metadata": {},
   "outputs": [
    {
     "data": {
      "text/plain": [
       "(50000, 32, 32, 3)"
      ]
     },
     "execution_count": 4,
     "metadata": {},
     "output_type": "execute_result"
    }
   ],
   "source": [
    "X_train.shape\n"
   ]
  },
  {
   "cell_type": "code",
   "execution_count": 5,
   "id": "4de3d42d",
   "metadata": {},
   "outputs": [
    {
     "data": {
      "text/plain": [
       "(50000, 1)"
      ]
     },
     "execution_count": 5,
     "metadata": {},
     "output_type": "execute_result"
    }
   ],
   "source": [
    "y_train.shape"
   ]
  },
  {
   "cell_type": "code",
   "execution_count": 6,
   "id": "05583b79",
   "metadata": {},
   "outputs": [],
   "source": [
    "classes = [\"airplane\",\"automobile\",\"bird\",\"cat\",\"deer\",\"dog\",\"frog\",\"horse\",\"ship\",\"truck\"]"
   ]
  },
  {
   "cell_type": "code",
   "execution_count": 7,
   "id": "0eee53bd",
   "metadata": {},
   "outputs": [
    {
     "data": {
      "text/plain": [
       "<matplotlib.image.AxesImage at 0x249cef7daf0>"
      ]
     },
     "execution_count": 7,
     "metadata": {},
     "output_type": "execute_result"
    },
    {
     "data": {
      "image/png": "[encoded data removed]",
      "text/plain": [
       "<Figure size 640x480 with 1 Axes>"
      ]
     },
     "metadata": {},
     "output_type": "display_data"
    }
   ],
   "source": [
    "plt.imshow(X_train[13])"
   ]
  },
  {
   "cell_type": "markdown",
   "id": "42707bee",
   "metadata": {},
   "source": [
    "# Scaling Images"
   ]
  },
  {
   "cell_type": "code",
   "execution_count": 8,
   "id": "b35d8aa6",
   "metadata": {},
   "outputs": [],
   "source": [
    "X_train=X_train/255\n",
    "X_test=X_test/255"
   ]
  },
  {
   "cell_type": "code",
   "execution_count": 9,
   "id": "0fa3c6d9",
   "metadata": {},
   "outputs": [
    {
     "data": {
      "text/plain": [
       "array([6, 9, 9, 4, 1], dtype=uint8)"
      ]
     },
     "execution_count": 9,
     "metadata": {},
     "output_type": "execute_result"
    }
   ],
   "source": [
    "y_test = y_test.reshape(10000,)\n",
    "y_train = y_train.reshape(50000,)\n",
    "y_train[:5]"
   ]
  },
  {
   "cell_type": "markdown",
   "id": "6446d738",
   "metadata": {},
   "source": [
    "# CONV MODEL"
   ]
  },
  {
   "cell_type": "code",
   "execution_count": 12,
   "id": "f93d8099",
   "metadata": {},
   "outputs": [
    {
     "name": "stdout",
     "output_type": "stream",
     "text": [
      "Epoch 1/10\n",
      "1563/1563 [==============================] - 73s 46ms/step - loss: 1.4642 - accuracy: 0.4754\n",
      "Epoch 2/10\n",
      "1563/1563 [==============================] - 76s 49ms/step - loss: 1.1078 - accuracy: 0.6111\n",
      "Epoch 3/10\n",
      "1563/1563 [==============================] - 84s 54ms/step - loss: 0.9837 - accuracy: 0.6565\n",
      "Epoch 4/10\n",
      "1563/1563 [==============================] - 72s 46ms/step - loss: 0.8966 - accuracy: 0.6870\n",
      "Epoch 5/10\n",
      "1563/1563 [==============================] - 72s 46ms/step - loss: 0.8355 - accuracy: 0.7088\n",
      "Epoch 6/10\n",
      "1563/1563 [==============================] - 74s 47ms/step - loss: 0.7814 - accuracy: 0.7284\n",
      "Epoch 7/10\n",
      "1563/1563 [==============================] - 74s 47ms/step - loss: 0.7360 - accuracy: 0.7425\n",
      "Epoch 8/10\n",
      "1563/1563 [==============================] - 88s 56ms/step - loss: 0.6938 - accuracy: 0.7580\n",
      "Epoch 9/10\n",
      "1563/1563 [==============================] - 77s 49ms/step - loss: 0.6523 - accuracy: 0.7714\n",
      "Epoch 10/10\n",
      "1563/1563 [==============================] - 92s 59ms/step - loss: 0.6179 - accuracy: 0.7824\n"
     ]
    },
    {
     "data": {
      "text/plain": [
       "<keras.callbacks.History at 0x24602319af0>"
      ]
     },
     "execution_count": 12,
     "metadata": {},
     "output_type": "execute_result"
    }
   ],
   "source": [
    "model = keras.Sequential([\n",
    "    keras.layers.Conv2D(filters=32, kernel_size=(3, 3), activation='relu', input_shape=(32, 32, 3)),\n",
    "    keras.layers.MaxPooling2D((2, 2)),\n",
    "    \n",
    "    keras.layers.Conv2D(filters=64, kernel_size=(3, 3), activation='relu'),\n",
    "    keras.layers.MaxPooling2D((2, 2)),\n",
    "    \n",
    "    keras.layers.Flatten(),\n",
    "    keras.layers.Dense(64, activation='relu'),\n",
    "    keras.layers.Dense(10, activation='softmax')\n",
    "])\n",
    "\n",
    "model.compile(optimizer='adam',\n",
    "              loss='sparse_categorical_crossentropy',\n",
    "              metrics=['accuracy'])\n",
    "\n",
    "\n",
    "model.fit(X_train, y_train, epochs=10)"
   ]
  },
  {
   "cell_type": "code",
   "execution_count": 13,
   "id": "087c0d7a",
   "metadata": {},
   "outputs": [
    {
     "name": "stdout",
     "output_type": "stream",
     "text": [
      "313/313 [==============================] - 5s 13ms/step - loss: 0.9338 - accuracy: 0.6941\n"
     ]
    },
    {
     "data": {
      "text/plain": [
       "[0.9338228702545166, 0.694100022315979]"
      ]
     },
     "execution_count": 13,
     "metadata": {},
     "output_type": "execute_result"
    }
   ],
   "source": [
    "model.evaluate(X_test,y_test)"
   ]
  },
  {
   "cell_type": "code",
   "execution_count": 19,
   "id": "7f130ad1",
   "metadata": {},
   "outputs": [
    {
     "name": "stdout",
     "output_type": "stream",
     "text": [
      "313/313 [==============================] - 5s 14ms/step\n"
     ]
    },
    {
     "data": {
      "text/plain": [
       "array([[9.6926913e-03, 2.6115536e-08, 1.3479614e-03, 9.5969319e-01,\n",
       "        3.1494941e-03, 2.4720546e-02, 7.0843048e-04, 2.9215148e-06,\n",
       "        6.8448921e-04, 2.2058565e-07],\n",
       "       [6.4510554e-05, 2.4635294e-01, 5.7698861e-07, 1.7738836e-08,\n",
       "        2.1558269e-07, 1.4985304e-09, 1.8764957e-11, 1.9118649e-07,\n",
       "        7.4715471e-01, 6.4267791e-03],\n",
       "       [1.6447010e-02, 2.1332797e-01, 4.5262999e-03, 2.1384917e-03,\n",
       "        1.3773216e-04, 2.9583531e-04, 5.9144216e-04, 5.1063239e-03,\n",
       "        7.3387694e-01, 2.3552006e-02],\n",
       "       [9.5074666e-01, 5.7868795e-03, 3.8222095e-03, 7.7220364e-05,\n",
       "        3.2020340e-05, 9.6347492e-07, 1.8175415e-05, 1.0616950e-06,\n",
       "        3.9505508e-02, 9.2532191e-06],\n",
       "       [1.9784734e-07, 8.9253525e-08, 5.2667577e-03, 1.1768626e-03,\n",
       "        9.5484746e-01, 2.6866712e-04, 3.8439088e-02, 7.5102434e-07,\n",
       "        4.9789762e-08, 5.8630548e-08]], dtype=float32)"
      ]
     },
     "execution_count": 19,
     "metadata": {},
     "output_type": "execute_result"
    }
   ],
   "source": [
    "y_pred=model.predict(X_test)\n",
    "y_pred[:5]"
   ]
  },
  {
   "cell_type": "code",
   "execution_count": 21,
   "id": "8995bf93",
   "metadata": {},
   "outputs": [
    {
     "data": {
      "text/plain": [
       "[3, 8, 8, 0, 4]"
      ]
     },
     "execution_count": 21,
     "metadata": {},
     "output_type": "execute_result"
    }
   ],
   "source": [
    "y_classes=[np.argmax(element) for element in y_pred]\n",
    "y_classes[:5]"
   ]
  },
  {
   "cell_type": "code",
   "execution_count": 29,
   "id": "2922dbb8",
   "metadata": {},
   "outputs": [
    {
     "data": {
      "text/plain": [
       "'horse'"
      ]
     },
     "execution_count": 29,
     "metadata": {},
     "output_type": "execute_result"
    }
   ],
   "source": [
    "classes[y_classes[13]]"
   ]
  },
  {
   "cell_type": "code",
   "execution_count": 40,
   "id": "284e44fd",
   "metadata": {},
   "outputs": [
    {
     "name": "stdout",
     "output_type": "stream",
     "text": [
      "Expected   horse\n",
      "Predicted  horse\n"
     ]
    },
    {
     "data": {
      "text/plain": [
       "Text(0.5, 0, 'horse')"
      ]
     },
     "execution_count": 40,
     "metadata": {},
     "output_type": "execute_result"
    },
    {
     "data": {
      "image/png": "[encoded data removed]",
      "text/plain": [
       "<Figure size 640x480 with 1 Axes>"
      ]
     },
     "metadata": {},
     "output_type": "display_data"
    }
   ],
   "source": [
    "plt.imshow(X_test[13])\n",
    "print(\"Expected  \",classes[y_test[13]])\n",
    "print(\"Predicted \",classes[y_classes[13]])\n",
    "plt.xlabel(classes[y_classes[13]])"
   ]
  },
  {
   "cell_type": "markdown",
   "id": "d6e1f4bc",
   "metadata": {},
   "source": [
    "# Saving the model"
   ]
  },
  {
   "cell_type": "code",
   "execution_count": 47,
   "id": "0f298b73",
   "metadata": {},
   "outputs": [
    {
     "name": "stderr",
     "output_type": "stream",
     "text": [
      "A subdirectory or file -p already exists.\n",
      "Error occurred while processing: -p.\n",
      "WARNING:absl:Found untraced functions such as _jit_compiled_convolution_op, _jit_compiled_convolution_op while saving (showing 2 of 2). These functions will not be directly callable after loading.\n"
     ]
    },
    {
     "name": "stdout",
     "output_type": "stream",
     "text": [
      "INFO:tensorflow:Assets written to: opt_model/my_model\\assets\n"
     ]
    },
    {
     "name": "stderr",
     "output_type": "stream",
     "text": [
      "INFO:tensorflow:Assets written to: opt_model/my_model\\assets\n"
     ]
    }
   ],
   "source": [
    "!mkdir -p opt_model\n",
    "model.save('opt_model/my_model')"
   ]
  },
  {
   "cell_type": "markdown",
   "id": "206c9626",
   "metadata": {},
   "source": [
    "# Loading Model"
   ]
  },
  {
   "cell_type": "code",
   "execution_count": 10,
   "id": "3d5d2055",
   "metadata": {},
   "outputs": [
    {
     "name": "stdout",
     "output_type": "stream",
     "text": [
      "Model: \"sequential_6\"\n",
      "_________________________________________________________________\n",
      " Layer (type)                Output Shape              Param #   \n",
      "=================================================================\n",
      " conv2d_8 (Conv2D)           (None, 30, 30, 32)        896       \n",
      "                                                                 \n",
      " max_pooling2d_8 (MaxPooling  (None, 15, 15, 32)       0         \n",
      " 2D)                                                             \n",
      "                                                                 \n",
      " conv2d_9 (Conv2D)           (None, 13, 13, 64)        18496     \n",
      "                                                                 \n",
      " max_pooling2d_9 (MaxPooling  (None, 6, 6, 64)         0         \n",
      " 2D)                                                             \n",
      "                                                                 \n",
      " flatten_6 (Flatten)         (None, 2304)              0         \n",
      "                                                                 \n",
      " dense_14 (Dense)            (None, 64)                147520    \n",
      "                                                                 \n",
      " dense_15 (Dense)            (None, 10)                650       \n",
      "                                                                 \n",
      "=================================================================\n",
      "Total params: 167,562\n",
      "Trainable params: 167,562\n",
      "Non-trainable params: 0\n",
      "_________________________________________________________________\n"
     ]
    }
   ],
   "source": [
    "new_model = tf.keras.models.load_model('saved_model/my_model')\n",
    "\n",
    "# Check its architecture\n",
    "new_model.summary()"
   ]
  },
  {
   "cell_type": "code",
   "execution_count": 11,
   "id": "2e56f1b1",
   "metadata": {},
   "outputs": [
    {
     "name": "stdout",
     "output_type": "stream",
     "text": [
      "313/313 [==============================] - 6s 15ms/step - loss: 0.9815 - accuracy: 0.6949\n"
     ]
    },
    {
     "data": {
      "text/plain": [
       "[0.9815292954444885, 0.6948999762535095]"
      ]
     },
     "execution_count": 11,
     "metadata": {},
     "output_type": "execute_result"
    }
   ],
   "source": [
    "new_model.evaluate(X_test,y_test)"
   ]
  },
  {
   "cell_type": "code",
   "execution_count": 12,
   "id": "95341f1e",
   "metadata": {},
   "outputs": [],
   "source": [
    "def process_image(file_path):\n",
    " \n",
    "    img = tf.io.read_file(file_path) # load the raw data from the file as a string\n",
    "    img = tf.image.decode_jpeg(img)\n",
    "    img = tf.image.resize(img, [32,32])\n",
    "    return img"
   ]
  },
  {
   "cell_type": "code",
   "execution_count": 20,
   "id": "b5b2aa4f",
   "metadata": {},
   "outputs": [
    {
     "name": "stdout",
     "output_type": "stream",
     "text": [
      "[[[0.57058823 0.6960784  0.44117647]\n",
      "  [0.574663   0.6960784  0.47300857]\n",
      "  [0.5058824  0.6509804  0.3372549 ]\n",
      "  ...\n",
      "  [0.5171875  0.6738971  0.29788604]\n",
      "  [0.4582108  0.61688113 0.22352941]\n",
      "  [0.43514094 0.5959253  0.13318014]]\n",
      "\n",
      " [[0.5083027  0.6534007  0.34751838]\n",
      "  [0.49261642 0.6224877  0.34267768]\n",
      "  [0.50392157 0.6607843  0.31176472]\n",
      "  ...\n",
      "  [0.55582106 0.7087622  0.26458332]\n",
      "  [0.5018382  0.6469363  0.20033701]\n",
      "  [0.51960784 0.6627451  0.1882353 ]]\n",
      "\n",
      " [[0.4517463  0.6086091  0.2674326 ]\n",
      "  [0.5678615  0.6933517  0.43452817]\n",
      "  [0.54782474 0.6901961  0.39641544]\n",
      "  ...\n",
      "  [0.5007659  0.6615502  0.2584865 ]\n",
      "  [0.5340993  0.6791973  0.22429535]\n",
      "  [0.5116728  0.672886   0.09852941]]\n",
      "\n",
      " ...\n",
      "\n",
      " [[0.14791666 0.24041054 0.13409926]\n",
      "  [0.07950368 0.19987746 0.04191177]\n",
      "  [0.1486826  0.30358455 0.00707721]\n",
      "  ...\n",
      "  [0.21014093 0.3422794  0.05098039]\n",
      "  [0.08753064 0.1867647  0.00842525]\n",
      "  [0.21731006 0.37604168 0.0185049 ]]\n",
      "\n",
      " [[0.25992647 0.36130515 0.19568014]\n",
      "  [0.07267157 0.19816177 0.00300245]\n",
      "  [0.3094669  0.4011642  0.05836397]\n",
      "  ...\n",
      "  [0.22702205 0.36427698 0.109375  ]\n",
      "  [0.20183824 0.3077206  0.11810662]\n",
      "  [0.1859375  0.35340074 0.03186275]]\n",
      "\n",
      " [[0.14411765 0.26219362 0.02208946]\n",
      "  [0.24644607 0.42714462 0.01688113]\n",
      "  [0.24237132 0.37374386 0.04690564]\n",
      "  ...\n",
      "  [0.13606004 0.26473653 0.        ]\n",
      "  [0.20404412 0.28385416 0.17882966]\n",
      "  [0.18376225 0.28529412 0.03936887]]]\n"
     ]
    }
   ],
   "source": [
    "img= process_image(\"dog.jpg\")\n",
    "img=img/255\n",
    "print(img.numpy())\n"
   ]
  },
  {
   "cell_type": "code",
   "execution_count": 114,
   "id": "cda18eff",
   "metadata": {},
   "outputs": [
    {
     "name": "stdout",
     "output_type": "stream",
     "text": [
      "313/313 [==============================] - 5s 16ms/step\n"
     ]
    },
    {
     "data": {
      "text/plain": [
       "array([[9.6926913e-03, 2.6115536e-08, 1.3479614e-03, 9.5969319e-01,\n",
       "        3.1494941e-03, 2.4720546e-02, 7.0843048e-04, 2.9215148e-06,\n",
       "        6.8448921e-04, 2.2058565e-07],\n",
       "       [6.4510554e-05, 2.4635294e-01, 5.7698861e-07, 1.7738836e-08,\n",
       "        2.1558269e-07, 1.4985304e-09, 1.8764957e-11, 1.9118649e-07,\n",
       "        7.4715471e-01, 6.4267791e-03],\n",
       "       [1.6447010e-02, 2.1332797e-01, 4.5262999e-03, 2.1384917e-03,\n",
       "        1.3773216e-04, 2.9583531e-04, 5.9144216e-04, 5.1063239e-03,\n",
       "        7.3387694e-01, 2.3552006e-02],\n",
       "       [9.5074666e-01, 5.7868795e-03, 3.8222095e-03, 7.7220364e-05,\n",
       "        3.2020340e-05, 9.6347492e-07, 1.8175415e-05, 1.0616950e-06,\n",
       "        3.9505508e-02, 9.2532191e-06],\n",
       "       [1.9784734e-07, 8.9253525e-08, 5.2667577e-03, 1.1768626e-03,\n",
       "        9.5484746e-01, 2.6866712e-04, 3.8439088e-02, 7.5102434e-07,\n",
       "        4.9789762e-08, 5.8630548e-08]], dtype=float32)"
      ]
     },
     "execution_count": 114,
     "metadata": {},
     "output_type": "execute_result"
    }
   ],
   "source": [
    "y_pred=new_model.predict(X_test)\n",
    "y_pred[:5]"
   ]
  },
  {
   "cell_type": "code",
   "execution_count": 17,
   "id": "af757f19",
   "metadata": {},
   "outputs": [
    {
     "data": {
      "text/plain": [
       "numpy.ndarray"
      ]
     },
     "execution_count": 17,
     "metadata": {},
     "output_type": "execute_result"
    }
   ],
   "source": [
    "type(X_test[0])"
   ]
  },
  {
   "cell_type": "code",
   "execution_count": 22,
   "id": "fbddf931",
   "metadata": {},
   "outputs": [
    {
     "data": {
      "text/plain": [
       "array([[[0.57058823, 0.6960784 , 0.44117647],\n",
       "        [0.574663  , 0.6960784 , 0.47300857],\n",
       "        [0.5058824 , 0.6509804 , 0.3372549 ],\n",
       "        ...,\n",
       "        [0.5171875 , 0.6738971 , 0.29788604],\n",
       "        [0.4582108 , 0.61688113, 0.22352941],\n",
       "        [0.43514094, 0.5959253 , 0.13318014]],\n",
       "\n",
       "       [[0.5083027 , 0.6534007 , 0.34751838],\n",
       "        [0.49261642, 0.6224877 , 0.34267768],\n",
       "        [0.50392157, 0.6607843 , 0.31176472],\n",
       "        ...,\n",
       "        [0.55582106, 0.7087622 , 0.26458332],\n",
       "        [0.5018382 , 0.6469363 , 0.20033701],\n",
       "        [0.51960784, 0.6627451 , 0.1882353 ]],\n",
       "\n",
       "       [[0.4517463 , 0.6086091 , 0.2674326 ],\n",
       "        [0.5678615 , 0.6933517 , 0.43452817],\n",
       "        [0.54782474, 0.6901961 , 0.39641544],\n",
       "        ...,\n",
       "        [0.5007659 , 0.6615502 , 0.2584865 ],\n",
       "        [0.5340993 , 0.6791973 , 0.22429535],\n",
       "        [0.5116728 , 0.672886  , 0.09852941]],\n",
       "\n",
       "       ...,\n",
       "\n",
       "       [[0.14791666, 0.24041054, 0.13409926],\n",
       "        [0.07950368, 0.19987746, 0.04191177],\n",
       "        [0.1486826 , 0.30358455, 0.00707721],\n",
       "        ...,\n",
       "        [0.21014093, 0.3422794 , 0.05098039],\n",
       "        [0.08753064, 0.1867647 , 0.00842525],\n",
       "        [0.21731006, 0.37604168, 0.0185049 ]],\n",
       "\n",
       "       [[0.25992647, 0.36130515, 0.19568014],\n",
       "        [0.07267157, 0.19816177, 0.00300245],\n",
       "        [0.3094669 , 0.4011642 , 0.05836397],\n",
       "        ...,\n",
       "        [0.22702205, 0.36427698, 0.109375  ],\n",
       "        [0.20183824, 0.3077206 , 0.11810662],\n",
       "        [0.1859375 , 0.35340074, 0.03186275]],\n",
       "\n",
       "       [[0.14411765, 0.26219362, 0.02208946],\n",
       "        [0.24644607, 0.42714462, 0.01688113],\n",
       "        [0.24237132, 0.37374386, 0.04690564],\n",
       "        ...,\n",
       "        [0.13606004, 0.26473653, 0.        ],\n",
       "        [0.20404412, 0.28385416, 0.17882966],\n",
       "        [0.18376225, 0.28529412, 0.03936887]]], dtype=float32)"
      ]
     },
     "execution_count": 22,
     "metadata": {},
     "output_type": "execute_result"
    }
   ],
   "source": [
    "img.numpy()"
   ]
  },
  {
   "cell_type": "code",
   "execution_count": 23,
   "id": "3127f997",
   "metadata": {},
   "outputs": [
    {
     "ename": "ValueError",
     "evalue": "in user code:\n\n    File \"C:\\Users\\Kishan\\AppData\\Local\\Packages\\PythonSoftwareFoundation.Python.3.9_qbz5n2kfra8p0\\LocalCache\\local-packages\\Python39\\site-packages\\keras\\engine\\training.py\", line 2041, in predict_function  *\n        return step_function(self, iterator)\n    File \"C:\\Users\\Kishan\\AppData\\Local\\Packages\\PythonSoftwareFoundation.Python.3.9_qbz5n2kfra8p0\\LocalCache\\local-packages\\Python39\\site-packages\\keras\\engine\\training.py\", line 2027, in step_function  **\n        outputs = model.distribute_strategy.run(run_step, args=(data,))\n    File \"C:\\Users\\Kishan\\AppData\\Local\\Packages\\PythonSoftwareFoundation.Python.3.9_qbz5n2kfra8p0\\LocalCache\\local-packages\\Python39\\site-packages\\keras\\engine\\training.py\", line 2015, in run_step  **\n        outputs = model.predict_step(data)\n    File \"C:\\Users\\Kishan\\AppData\\Local\\Packages\\PythonSoftwareFoundation.Python.3.9_qbz5n2kfra8p0\\LocalCache\\local-packages\\Python39\\site-packages\\keras\\engine\\training.py\", line 1983, in predict_step\n        return self(x, training=False)\n    File \"C:\\Users\\Kishan\\AppData\\Local\\Packages\\PythonSoftwareFoundation.Python.3.9_qbz5n2kfra8p0\\LocalCache\\local-packages\\Python39\\site-packages\\keras\\utils\\traceback_utils.py\", line 70, in error_handler\n        raise e.with_traceback(filtered_tb) from None\n    File \"C:\\Users\\Kishan\\AppData\\Local\\Packages\\PythonSoftwareFoundation.Python.3.9_qbz5n2kfra8p0\\LocalCache\\local-packages\\Python39\\site-packages\\keras\\engine\\input_spec.py\", line 295, in assert_input_compatibility\n        raise ValueError(\n\n    ValueError: Input 0 of layer \"sequential_6\" is incompatible with the layer: expected shape=(None, 32, 32, 3), found shape=(32, 32, 3)\n",
     "output_type": "error",
     "traceback": [
      "\u001b[1;31m---------------------------------------------------------------------------\u001b[0m",
      "\u001b[1;31mValueError\u001b[0m                                Traceback (most recent call last)",
      "Cell \u001b[1;32mIn [23], line 1\u001b[0m\n\u001b[1;32m----> 1\u001b[0m y_predimage\u001b[38;5;241m=\u001b[39m\u001b[43mnew_model\u001b[49m\u001b[38;5;241;43m.\u001b[39;49m\u001b[43mpredict\u001b[49m\u001b[43m(\u001b[49m\u001b[43mimg\u001b[49m\u001b[38;5;241;43m.\u001b[39;49m\u001b[43mnumpy\u001b[49m\u001b[43m(\u001b[49m\u001b[43m)\u001b[49m\u001b[43m)\u001b[49m\n\u001b[0;32m      2\u001b[0m y_predimage\n",
      "File \u001b[1;32m~\\AppData\\Local\\Packages\\PythonSoftwareFoundation.Python.3.9_qbz5n2kfra8p0\\LocalCache\\local-packages\\Python39\\site-packages\\keras\\utils\\traceback_utils.py:70\u001b[0m, in \u001b[0;36mfilter_traceback.<locals>.error_handler\u001b[1;34m(*args, **kwargs)\u001b[0m\n\u001b[0;32m     67\u001b[0m     filtered_tb \u001b[38;5;241m=\u001b[39m _process_traceback_frames(e\u001b[38;5;241m.\u001b[39m__traceback__)\n\u001b[0;32m     68\u001b[0m     \u001b[38;5;66;03m# To get the full stack trace, call:\u001b[39;00m\n\u001b[0;32m     69\u001b[0m     \u001b[38;5;66;03m# `tf.debugging.disable_traceback_filtering()`\u001b[39;00m\n\u001b[1;32m---> 70\u001b[0m     \u001b[38;5;28;01mraise\u001b[39;00m e\u001b[38;5;241m.\u001b[39mwith_traceback(filtered_tb) \u001b[38;5;28;01mfrom\u001b[39;00m \u001b[38;5;28mNone\u001b[39m\n\u001b[0;32m     71\u001b[0m \u001b[38;5;28;01mfinally\u001b[39;00m:\n\u001b[0;32m     72\u001b[0m     \u001b[38;5;28;01mdel\u001b[39;00m filtered_tb\n",
      "File \u001b[1;32m~\\AppData\\Local\\Temp\\__autograph_generated_filegss6n8x5.py:15\u001b[0m, in \u001b[0;36mouter_factory.<locals>.inner_factory.<locals>.tf__predict_function\u001b[1;34m(iterator)\u001b[0m\n\u001b[0;32m     13\u001b[0m \u001b[38;5;28;01mtry\u001b[39;00m:\n\u001b[0;32m     14\u001b[0m     do_return \u001b[38;5;241m=\u001b[39m \u001b[38;5;28;01mTrue\u001b[39;00m\n\u001b[1;32m---> 15\u001b[0m     retval_ \u001b[38;5;241m=\u001b[39m ag__\u001b[38;5;241m.\u001b[39mconverted_call(ag__\u001b[38;5;241m.\u001b[39mld(step_function), (ag__\u001b[38;5;241m.\u001b[39mld(\u001b[38;5;28mself\u001b[39m), ag__\u001b[38;5;241m.\u001b[39mld(iterator)), \u001b[38;5;28;01mNone\u001b[39;00m, fscope)\n\u001b[0;32m     16\u001b[0m \u001b[38;5;28;01mexcept\u001b[39;00m:\n\u001b[0;32m     17\u001b[0m     do_return \u001b[38;5;241m=\u001b[39m \u001b[38;5;28;01mFalse\u001b[39;00m\n",
      "\u001b[1;31mValueError\u001b[0m: in user code:\n\n    File \"C:\\Users\\Kishan\\AppData\\Local\\Packages\\PythonSoftwareFoundation.Python.3.9_qbz5n2kfra8p0\\LocalCache\\local-packages\\Python39\\site-packages\\keras\\engine\\training.py\", line 2041, in predict_function  *\n        return step_function(self, iterator)\n    File \"C:\\Users\\Kishan\\AppData\\Local\\Packages\\PythonSoftwareFoundation.Python.3.9_qbz5n2kfra8p0\\LocalCache\\local-packages\\Python39\\site-packages\\keras\\engine\\training.py\", line 2027, in step_function  **\n        outputs = model.distribute_strategy.run(run_step, args=(data,))\n    File \"C:\\Users\\Kishan\\AppData\\Local\\Packages\\PythonSoftwareFoundation.Python.3.9_qbz5n2kfra8p0\\LocalCache\\local-packages\\Python39\\site-packages\\keras\\engine\\training.py\", line 2015, in run_step  **\n        outputs = model.predict_step(data)\n    File \"C:\\Users\\Kishan\\AppData\\Local\\Packages\\PythonSoftwareFoundation.Python.3.9_qbz5n2kfra8p0\\LocalCache\\local-packages\\Python39\\site-packages\\keras\\engine\\training.py\", line 1983, in predict_step\n        return self(x, training=False)\n    File \"C:\\Users\\Kishan\\AppData\\Local\\Packages\\PythonSoftwareFoundation.Python.3.9_qbz5n2kfra8p0\\LocalCache\\local-packages\\Python39\\site-packages\\keras\\utils\\traceback_utils.py\", line 70, in error_handler\n        raise e.with_traceback(filtered_tb) from None\n    File \"C:\\Users\\Kishan\\AppData\\Local\\Packages\\PythonSoftwareFoundation.Python.3.9_qbz5n2kfra8p0\\LocalCache\\local-packages\\Python39\\site-packages\\keras\\engine\\input_spec.py\", line 295, in assert_input_compatibility\n        raise ValueError(\n\n    ValueError: Input 0 of layer \"sequential_6\" is incompatible with the layer: expected shape=(None, 32, 32, 3), found shape=(32, 32, 3)\n"
     ]
    }
   ],
   "source": [
    "y_predimage=new_model.predict(img.numpy())\n",
    "y_predimage"
   ]
  },
  {
   "cell_type": "code",
   "execution_count": 86,
   "id": "c0fac6c3",
   "metadata": {},
   "outputs": [
    {
     "data": {
      "text/plain": [
       "[3, 8, 8, 0, 4]"
      ]
     },
     "execution_count": 86,
     "metadata": {},
     "output_type": "execute_result"
    }
   ],
   "source": [
    "y_classes=[np.argmax(element) for element in y_pred]\n",
    "y_classes[:5]"
   ]
  },
  {
   "cell_type": "code",
   "execution_count": null,
   "id": "28a359e0",
   "metadata": {},
   "outputs": [],
   "source": [
    "#\n",
    "y_classimage=np.argmax(y_predimage)\n",
    "print(y_classimage)"
   ]
  },
  {
   "cell_type": "code",
   "execution_count": 32,
   "id": "d00922d1",
   "metadata": {},
   "outputs": [],
   "source": [
    "def output(a):\n",
    "    plt.imshow(X_test)\n",
    "    print(\"Expected  \",classes[y_test[a]])\n",
    "    print(\"Predicted \",classes[y_classes[a]])\n",
    "    plt.xlabel(classes[y_classes[a]])\n",
    "    \n"
   ]
  },
  {
   "cell_type": "code",
   "execution_count": null,
   "id": "8e3c7c1c",
   "metadata": {},
   "outputs": [],
   "source": [
    "#\n",
    "def output():\n",
    "    print(\"Predicted \",classes[y_classimage])\n"
   ]
  },
  {
   "cell_type": "code",
   "execution_count": 33,
   "id": "e06d6aca",
   "metadata": {},
   "outputs": [
    {
     "name": "stdout",
     "output_type": "stream",
     "text": [
      "Expected   ship\n",
      "Predicted  frog\n"
     ]
    },
    {
     "data": {
      "image/png": "[encoded data removed]",
      "text/plain": [
       "<Figure size 640x480 with 1 Axes>"
      ]
     },
     "metadata": {},
     "output_type": "display_data"
    }
   ],
   "source": [
    "output(15)"
   ]
  },
  {
   "cell_type": "code",
   "execution_count": 34,
   "id": "788d2d37",
   "metadata": {},
   "outputs": [],
   "source": [
    "cm=tf.math.confusion_matrix(labels=y_test,predictions=y_classes)"
   ]
  },
  {
   "cell_type": "code",
   "execution_count": 35,
   "id": "3332508e",
   "metadata": {},
   "outputs": [
    {
     "data": {
      "text/plain": [
       "<tf.Tensor: shape=(10, 10), dtype=int32, numpy=\n",
       "array([[722,  28,  75,  24,  19,  13,  10,   9,  64,  36],\n",
       "       [ 17, 818,   8,  11,   6,   4,   8,   2,  32,  94],\n",
       "       [ 50,   4, 597,  60, 106,  67,  58,  33,  12,  13],\n",
       "       [ 28,   5,  77, 464,  78, 217,  63,  29,  18,  21],\n",
       "       [ 23,   3,  77,  60, 673,  40,  50,  63,   6,   5],\n",
       "       [ 11,   7,  54, 147,  50, 625,  23,  62,   8,  13],\n",
       "       [ 13,   9,  56,  63,  62,  30, 746,   5,   9,   7],\n",
       "       [ 19,   4,  35,  46,  67,  59,   7, 735,   3,  25],\n",
       "       [ 70,  44,  20,  12,  14,   6,   7,   5, 783,  39],\n",
       "       [ 37,  85,  11,  11,   7,  10,   9,  16,  28, 786]])>"
      ]
     },
     "execution_count": 35,
     "metadata": {},
     "output_type": "execute_result"
    }
   ],
   "source": [
    "cm"
   ]
  },
  {
   "cell_type": "code",
   "execution_count": null,
   "id": "9a1bfae7",
   "metadata": {},
   "outputs": [],
   "source": []
  }
 ],
 "metadata": {
  "kernelspec": {
   "display_name": "Python 3 (ipykernel)",
   "language": "python",
   "name": "python3"
  },
  "language_info": {
   "codemirror_mode": {
    "name": "ipython",
    "version": 3
   },
   "file_extension": ".py",
   "mimetype": "text/x-python",
   "name": "python",
   "nbconvert_exporter": "python",
   "pygments_lexer": "ipython3",
   "version": "3.9.13"
  }
 },
 "nbformat": 4,
 "nbformat_minor": 5
}
